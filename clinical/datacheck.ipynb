{
 "cells": [
  {
   "cell_type": "code",
   "execution_count": 2,
   "metadata": {},
   "outputs": [],
   "source": [
    "import os\n",
    "import pandas as pd"
   ]
  },
  {
   "cell_type": "code",
   "execution_count": 3,
   "metadata": {},
   "outputs": [],
   "source": [
    "MI_F_dir = 'D:/mimiciv_data/mimic-iv-clinical_note/1.0/preprocessed/MI_F_clinical.csv'\n",
    "MI_F_df = pd.read_csv(MI_F_dir)\n",
    "MI_M_dir = 'D:/mimiciv_data/mimic-iv-clinical_note/1.0/preprocessed/MI_M_clinical.csv'\n",
    "MI_M_df = pd.read_csv(MI_M_dir)\n",
    "NOT_MI_F_dir = 'D:/mimiciv_data/mimic-iv-clinical_note/1.0/preprocessed/NOT_MI_F_clinical.csv'\n",
    "NOT_MI_F_df = pd.read_csv(NOT_MI_F_dir)\n",
    "NOT_MI_M_dir = 'D:/mimiciv_data/mimic-iv-clinical_note/1.0/preprocessed/NOT_MI_M_clinical.csv'\n",
    "NOT_MI_M_df = pd.read_csv(NOT_MI_M_dir)\n"
   ]
  },
  {
   "cell_type": "code",
   "execution_count": 4,
   "metadata": {},
   "outputs": [],
   "source": [
    "MI_F_df['class'] = 1\n",
    "MI_M_df['class'] = 1\n",
    "NOT_MI_F_df['class'] = 0\n",
    "NOT_MI_M_df['class'] = 0"
   ]
  },
  {
   "cell_type": "code",
   "execution_count": 5,
   "metadata": {},
   "outputs": [
    {
     "name": "stderr",
     "output_type": "stream",
     "text": [
      "C:\\Users\\yumi\\AppData\\Local\\Temp\\ipykernel_23336\\1672244196.py:2: FutureWarning: A value is trying to be set on a copy of a DataFrame or Series through chained assignment using an inplace method.\n",
      "The behavior will change in pandas 3.0. This inplace method will never work because the intermediate object on which we are setting values always behaves as a copy.\n",
      "\n",
      "For example, when doing 'df[col].method(value, inplace=True)', try using 'df.method({col: value}, inplace=True)' or df[col] = df[col].method(value) instead, to perform the operation inplace on the original object.\n",
      "\n",
      "\n",
      "  MI_F_df['ctn_value'].fillna(ctn_mean_MI_F, inplace=True)\n",
      "C:\\Users\\yumi\\AppData\\Local\\Temp\\ipykernel_23336\\1672244196.py:4: FutureWarning: A value is trying to be set on a copy of a DataFrame or Series through chained assignment using an inplace method.\n",
      "The behavior will change in pandas 3.0. This inplace method will never work because the intermediate object on which we are setting values always behaves as a copy.\n",
      "\n",
      "For example, when doing 'df[col].method(value, inplace=True)', try using 'df.method({col: value}, inplace=True)' or df[col] = df[col].method(value) instead, to perform the operation inplace on the original object.\n",
      "\n",
      "\n",
      "  MI_M_df['ctn_value'].fillna(ctn_mean_MI_M, inplace=True)\n",
      "C:\\Users\\yumi\\AppData\\Local\\Temp\\ipykernel_23336\\1672244196.py:6: FutureWarning: A value is trying to be set on a copy of a DataFrame or Series through chained assignment using an inplace method.\n",
      "The behavior will change in pandas 3.0. This inplace method will never work because the intermediate object on which we are setting values always behaves as a copy.\n",
      "\n",
      "For example, when doing 'df[col].method(value, inplace=True)', try using 'df.method({col: value}, inplace=True)' or df[col] = df[col].method(value) instead, to perform the operation inplace on the original object.\n",
      "\n",
      "\n",
      "  NOT_MI_F_df['ctn_value'].fillna(ctn_mean_NOT_MI_F, inplace=True)\n",
      "C:\\Users\\yumi\\AppData\\Local\\Temp\\ipykernel_23336\\1672244196.py:8: FutureWarning: A value is trying to be set on a copy of a DataFrame or Series through chained assignment using an inplace method.\n",
      "The behavior will change in pandas 3.0. This inplace method will never work because the intermediate object on which we are setting values always behaves as a copy.\n",
      "\n",
      "For example, when doing 'df[col].method(value, inplace=True)', try using 'df.method({col: value}, inplace=True)' or df[col] = df[col].method(value) instead, to perform the operation inplace on the original object.\n",
      "\n",
      "\n",
      "  NOT_MI_M_df['ctn_value'].fillna(ctn_mean_NOT_MI_M, inplace=True)\n"
     ]
    }
   ],
   "source": [
    "ctn_mean_MI_F = MI_F_df['ctn_value'].mean().round(2)\n",
    "MI_F_df['ctn_value'].fillna(ctn_mean_MI_F, inplace=True)\n",
    "ctn_mean_MI_M = MI_M_df['ctn_value'].mean().round(2)\n",
    "MI_M_df['ctn_value'].fillna(ctn_mean_MI_M, inplace=True)\n",
    "ctn_mean_NOT_MI_F = NOT_MI_F_df['ctn_value'].mean().round(2)\n",
    "NOT_MI_F_df['ctn_value'].fillna(ctn_mean_NOT_MI_F, inplace=True)\n",
    "ctn_mean_NOT_MI_M = NOT_MI_M_df['ctn_value'].mean().round(2)\n",
    "NOT_MI_M_df['ctn_value'].fillna(ctn_mean_NOT_MI_M, inplace=True)\n"
   ]
  },
  {
   "cell_type": "code",
   "execution_count": 6,
   "metadata": {},
   "outputs": [
    {
     "name": "stdout",
     "output_type": "stream",
     "text": [
      "      subject_id  ecg_study_id  echo_study_id gender  ctn_value  class\n",
      "0       10020306      40865599       93489296      F       0.04      1\n",
      "1       10020306      40865599       93489296      F       0.05      1\n",
      "2       10020306      40865599       93489296      F       0.05      1\n",
      "3       10040025      40178612       90761569      F       0.02      1\n",
      "4       10040025      40178612       90761569      F       0.01      1\n",
      "...          ...           ...            ...    ...        ...    ...\n",
      "3176    19883311      40540266       90881874      F       0.22      1\n",
      "3177    19883311      40540266       90881874      F       0.28      1\n",
      "3178    19883311      40540266       90881874      F       0.27      1\n",
      "3179    19943755      40403869       98808161      F       0.42      1\n",
      "3180    19963038      40081999       90276609      F       0.42      1\n",
      "\n",
      "[3181 rows x 6 columns]\n",
      "      subject_id  ecg_study_id  echo_study_id gender  ctn_value  class\n",
      "0       10012438      41909781       97555635      M       0.48      1\n",
      "1       10052047      40989586       90428410      M       0.01      1\n",
      "2       10102878      40676354       99452021      M       1.84      1\n",
      "3       10102878      40676354       99452021      M       2.88      1\n",
      "4       10102878      40676354       99452021      M       2.46      1\n",
      "...          ...           ...            ...    ...        ...    ...\n",
      "4802    19982989      40345926       94089689      M       0.06      1\n",
      "4803    19982989      40345926       94089689      M       0.17      1\n",
      "4804    19982989      40345926       94089689      M       0.24      1\n",
      "4805    19982989      40345926       94089689      M       0.32      1\n",
      "4806    19986589      40021058       96993263      M       0.48      1\n",
      "\n",
      "[4807 rows x 6 columns]\n",
      "      subject_id  ecg_study_id  echo_study_id gender  ctn_value  class\n",
      "0       10025747      40862377       99614245      F       0.32      0\n",
      "1       10119094      40562781       98470337      F       0.32      0\n",
      "2       10165902      44605750       99011665      F       0.04      0\n",
      "3       10165902      44605750       99011665      F       0.03      0\n",
      "4       10175407      41935164       97407465      F       0.32      0\n",
      "...          ...           ...            ...    ...        ...    ...\n",
      "1317    19907884      40258425       90845488      F       0.32      0\n",
      "1318    19973580      41536358       90138490      F       0.11      0\n",
      "1319    19973580      41536358       90138490      F       0.06      0\n",
      "1320    19973580      41536358       90138490      F       0.02      0\n",
      "1321    19973580      41536358       90138490      F       0.02      0\n",
      "\n",
      "[1322 rows x 6 columns]\n",
      "      subject_id  ecg_study_id  echo_study_id gender  ctn_value  class\n",
      "0       10002430      40131334       92290733      M       0.03      0\n",
      "1       10002430      40131334       92290733      M       0.03      0\n",
      "2       10002430      40131334       92290733      M       0.02      0\n",
      "3       10002430      40131334       92290733      M       0.02      0\n",
      "4       10002430      40131334       92290733      M       0.03      0\n",
      "...          ...           ...            ...    ...        ...    ...\n",
      "2241    19933276      40719301       93012786      M       0.07      0\n",
      "2242    19933276      40719301       93012786      M       0.02      0\n",
      "2243    19933276      40719301       93012786      M       0.02      0\n",
      "2244    19957636      40433995       90969115      M       0.93      0\n",
      "2245    19957636      40433995       90969115      M       0.82      0\n",
      "\n",
      "[2246 rows x 6 columns]\n"
     ]
    }
   ],
   "source": [
    "print(MI_F_df)\n",
    "print(MI_M_df)\n",
    "print(NOT_MI_F_df)\n",
    "print(NOT_MI_M_df)"
   ]
  },
  {
   "cell_type": "code",
   "execution_count": 7,
   "metadata": {},
   "outputs": [
    {
     "name": "stdout",
     "output_type": "stream",
     "text": [
      "353\n",
      "518\n",
      "353\n",
      "518\n"
     ]
    }
   ],
   "source": [
    "MI_F_df_count = MI_F_df['subject_id'].nunique()\n",
    "MI_M_df_count = MI_M_df['subject_id'].nunique()\n",
    "NOT_MI_F_df_count = NOT_MI_F_df['subject_id'].nunique()\n",
    "NOT_MI_M_df_count = NOT_MI_M_df['subject_id'].nunique()\n",
    "\n",
    "print(MI_F_df_count)\n",
    "print(MI_M_df_count)\n",
    "print(NOT_MI_F_df_count)\n",
    "print(NOT_MI_M_df_count)"
   ]
  },
  {
   "cell_type": "code",
   "execution_count": 8,
   "metadata": {},
   "outputs": [],
   "source": [
    "# df = pd.concat([MI_F_df, MI_M_df, NOT_MI_F_df, NOT_MI_M_df], ignore_index=True)\n",
    "\n",
    "# print(df)"
   ]
  },
  {
   "cell_type": "code",
   "execution_count": 9,
   "metadata": {},
   "outputs": [],
   "source": [
    "# df_count = df['subject_id'].nunique()\n",
    "# print(df_count)"
   ]
  },
  {
   "cell_type": "code",
   "execution_count": 10,
   "metadata": {},
   "outputs": [
    {
     "name": "stdout",
     "output_type": "stream",
     "text": [
      "하나의 subject_id당 최대 ctn_value의 개수: 87\n"
     ]
    }
   ],
   "source": [
    "# 각 subject_id별로 ctn_value의 개수를 계산\n",
    "ctn_count_per_subject = MI_F_df.groupby('subject_id')['ctn_value'].count()\n",
    "\n",
    "# 최대 ctn_value 개수 찾기\n",
    "max_ctn_count = ctn_count_per_subject.max()\n",
    "\n",
    "print(f\"하나의 subject_id당 최대 ctn_value의 개수: {max_ctn_count}\")"
   ]
  }
 ],
 "metadata": {
  "kernelspec": {
   "display_name": "daiv",
   "language": "python",
   "name": "python3"
  },
  "language_info": {
   "codemirror_mode": {
    "name": "ipython",
    "version": 3
   },
   "file_extension": ".py",
   "mimetype": "text/x-python",
   "name": "python",
   "nbconvert_exporter": "python",
   "pygments_lexer": "ipython3",
   "version": "3.12.2"
  }
 },
 "nbformat": 4,
 "nbformat_minor": 2
}
