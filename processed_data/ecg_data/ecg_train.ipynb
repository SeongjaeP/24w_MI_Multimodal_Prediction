{
 "cells": [
  {
   "cell_type": "code",
   "execution_count": null,
   "metadata": {},
   "outputs": [],
   "source": []
  },
  {
   "cell_type": "code",
   "execution_count": null,
   "metadata": {},
   "outputs": [],
   "source": [
    "from torch.utils.data import Dataset\n",
    "import numpy as np\n",
    "import os\n",
    "import wfdb\n",
    "\n",
    "class ECGDataset(Dataset):\n",
    "    def __init__(self, data_dir, transform=None):\n",
    "        \"\"\"\n",
    "        data_dir: 데이터 파일이 위치한 디렉토리 경로\n",
    "        transform: 데이터에 적용할 전처리 함수\n",
    "        \"\"\"\n",
    "        self.data_dir = data_dir\n",
    "        self.transform = transform\n",
    "        # 데이터 파일 목록을 불러옴\n",
    "        self.data_files = [os.path.join(data_dir, fname) for fname in os.listdir(data_dir) if fname.endswith('.npy')]\n",
    "\n",
    "    def __len__(self):\n",
    "        # 데이터셋의 총 데이터 수\n",
    "        return len(self.data_files)\n",
    "\n",
    "    def __getitem__(self, idx):\n",
    "        # idx 인덱스에 해당하는 데이터를 불러옴\n",
    "        data_path = self.data_files[idx]\n",
    "        # 데이터 로드 (여기서는 npy 형태로 저장된 데이터를 예시로 들었습니다)\n",
    "        data = np.load(data_path)\n",
    "        # 라벨 로드 또는 생성 (라벨이 데이터 파일명 또는 별도 파일에 저장되어 있는 경우에 따라 로드 방법이 달라집니다)\n",
    "        label = # 라벨 로드하는 코드\n",
    "        if self.transform:\n",
    "            data = self.transform(data)\n",
    "        return data, label\n"
   ]
  },
  {
   "cell_type": "code",
   "execution_count": null,
   "metadata": {},
   "outputs": [],
   "source": [
    "from torch.utils.data import DataLoader\n",
    "\n",
    "# 데이터셋 인스턴스 생성\n",
    "ecg_dataset = ECGDataset(data_dir='path/to/your/data', transform=your_transform_function)\n",
    "\n",
    "# DataLoader 인스턴스 생성\n",
    "ecg_dataloader = DataLoader(ecg_dataset, batch_size=32, shuffle=True, num_workers=4)\n",
    "\n",
    "# 데이터 로더 사용 예시\n",
    "for batch in ecg_dataloader:\n",
    "    data, labels = batch\n",
    "    # 여기서부터 실제 모델 학습 코드 작성\n"
   ]
  },
  {
   "cell_type": "code",
   "execution_count": null,
   "metadata": {},
   "outputs": [],
   "source": []
  },
  {
   "cell_type": "code",
   "execution_count": null,
   "metadata": {},
   "outputs": [],
   "source": []
  }
 ],
 "metadata": {
  "language_info": {
   "name": "python"
  }
 },
 "nbformat": 4,
 "nbformat_minor": 2
}
