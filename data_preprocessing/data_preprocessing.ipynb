{
 "cells": [
  {
   "cell_type": "code",
   "execution_count": null,
   "metadata": {},
   "outputs": [
    {
     "ename": "",
     "evalue": "",
     "output_type": "error",
     "traceback": [
      "\u001b[1;31mRunning cells with 'c:\\Users\\Administrator\\AppData\\Local\\Programs\\Python\\Python312\\python.exe' requires the ipykernel package.\n",
      "\u001b[1;31mRun the following command to install 'ipykernel' into the Python environment. \n",
      "\u001b[1;31mCommand: 'c:/Users/Administrator/AppData/Local/Programs/Python/Python312/python.exe -m pip install ipykernel -U --user --force-reinstall'"
     ]
    }
   ],
   "source": [
    "!pip install pandas"
   ]
  },
  {
   "cell_type": "code",
   "execution_count": null,
   "metadata": {},
   "outputs": [],
   "source": [
    "import pandas as pd"
   ]
  },
  {
   "cell_type": "code",
   "execution_count": null,
   "metadata": {},
   "outputs": [],
   "source": [
    "\n",
    "\n",
    "# CSV 파일 로드\n",
    "mi_list = pd.read_csv('mi_list.csv')\n",
    "record_list = pd.read_csv('record_list.csv')\n",
    "\n",
    "# mi_list의 subject_id를 기준으로 record_list에서 일치하는 데이터 추출\n",
    "matching_records = record_list[record_list['subject_id'].isin(mi_list['subject_id'])]\n",
    "\n",
    "# 동일한 subject_id를 가진 데이터 중 첫 번째 값만 유지\n",
    "matching_records_first = matching_records.drop_duplicates(subset='subject_id', keep='first')\n",
    "\n",
    "# 결과 출력\n",
    "print(matching_records_first)\n",
    "\n",
    "# 결과를 새로운 CSV 파일로 저장 (옵션)\n",
    "matching_records_first.to_csv('matching_records_first.csv', index=False)"
   ]
  },
  {
   "cell_type": "code",
   "execution_count": null,
   "metadata": {},
   "outputs": [],
   "source": []
  }
 ],
 "metadata": {
  "kernelspec": {
   "display_name": "Python 3",
   "language": "python",
   "name": "python3"
  },
  "language_info": {
   "name": "python",
   "version": "3.12.0"
  }
 },
 "nbformat": 4,
 "nbformat_minor": 2
}
